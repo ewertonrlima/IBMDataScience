{
    "nbformat_minor": 1, 
    "cells": [
        {
            "outputs": [
                {
                    "name": "stdout", 
                    "output_type": "stream", 
                    "text": "('seg', 'ter', 'quar')\nSize: 3\n"
                }
            ], 
            "cell_type": "code", 
            "metadata": {
                "scrolled": true
            }, 
            "execution_count": 24, 
            "source": "tuple1 = (\"seg\", \"ter\", \"quar\")\nprint (tuple1)\nprint (\"Size:\", len(tuple1))"
        }, 
        {
            "outputs": [
                {
                    "name": "stdout", 
                    "output_type": "stream", 
                    "text": "[1, 2, 'tres', 'Tres', 'Dois', ('seg', 'ter', 'quar'), 1]\nTotal list size is: 7\n"
                }
            ], 
            "cell_type": "code", 
            "metadata": {}, 
            "execution_count": 25, 
            "source": "list1 = [1, 2, \"tres\", \"Tres\", \"Dois\", tuple1, 1]\nprint (list1)\nprint (\"Total list size is:\", len(list1))"
        }, 
        {
            "outputs": [
                {
                    "name": "stdout", 
                    "output_type": "stream", 
                    "text": "Primeiro elemento na list1:  1\n[1, 2, 'tres', 'Tres', 'Dois', ('seg', 'ter', 'quar'), 1]\nSize of the tuple: 3\n"
                }
            ], 
            "cell_type": "code", 
            "metadata": {
                "scrolled": true
            }, 
            "execution_count": 47, 
            "source": "print(\"Primeiro elemento na list1: \", list1[0])\nprint (list1)\nlist1[4]\nprint (\"Size of the tuple:\", len(list1[5]))\n"
        }, 
        {
            "outputs": [
                {
                    "name": "stdout", 
                    "output_type": "stream", 
                    "text": "['seg', 'ter', 'quar']\n['quar', 'seg', 'ter']\n['ter', 'seg', 'quar']\nquar\nter\n"
                }
            ], 
            "cell_type": "code", 
            "metadata": {}, 
            "execution_count": 42, 
            "source": "list2 = list(list1[5])\nprint (list2)\nlist2.sort()\nprint (list2)\nlist2.reverse()\nprint (list2)\nprint (min(list2))\nprint (max(list2))\n"
        }, 
        {
            "outputs": [
                {
                    "name": "stdout", 
                    "output_type": "stream", 
                    "text": "[1, 2, 'tres', 'Tres', 'Dois', ('seg', 'ter', 'quar'), 1]\n['ter', 'seg', 'quar']\n"
                }, 
                {
                    "output_type": "execute_result", 
                    "metadata": {}, 
                    "data": {
                        "text/plain": "[1, 2, 'tres', 'Tres', 'Dois', ('seg', 'ter', 'quar'), 1, 'ter', 'seg', 'quar']"
                    }, 
                    "execution_count": 46
                }
            ], 
            "cell_type": "code", 
            "metadata": {}, 
            "execution_count": 46, 
            "source": "print (list1)\nprint (list2)\nlist3 = list1 + list2\nlist3"
        }
    ], 
    "metadata": {
        "kernelspec": {
            "display_name": "Python 3.5 (Experimental) with Spark 2.1", 
            "name": "python3-spark21", 
            "language": "python"
        }, 
        "language_info": {
            "mimetype": "text/x-python", 
            "version": "3.5.2", 
            "pygments_lexer": "ipython3", 
            "name": "python", 
            "nbconvert_exporter": "python", 
            "file_extension": ".py", 
            "codemirror_mode": {
                "name": "ipython", 
                "version": 3
            }
        }
    }, 
    "nbformat": 4
}